{
 "cells": [
  {
   "cell_type": "markdown",
   "metadata": {
    "deletable": true,
    "editable": true
   },
   "source": [
    "# TV Script Generation\n",
    "In this project, you'll generate your own [Simpsons](https://en.wikipedia.org/wiki/The_Simpsons) TV scripts using RNNs.  You'll be using part of the [Simpsons dataset](https://www.kaggle.com/wcukierski/the-simpsons-by-the-data) of scripts from 27 seasons.  The Neural Network you'll build will generate a new TV script for a scene at [Moe's Tavern](https://simpsonswiki.com/wiki/Moe's_Tavern).\n",
    "## Get the Data\n",
    "The data is already provided for you.  You'll be using a subset of the original dataset.  It consists of only the scenes in Moe's Tavern.  This doesn't include other versions of the tavern, like \"Moe's Cavern\", \"Flaming Moe's\", \"Uncle Moe's Family Feed-Bag\", etc.."
   ]
  },
  {
   "cell_type": "code",
   "execution_count": 1,
   "metadata": {
    "collapsed": false,
    "deletable": true,
    "editable": true
   },
   "outputs": [],
   "source": [
    "\"\"\"\n",
    "DON'T MODIFY ANYTHING IN THIS CELL\n",
    "\"\"\"\n",
    "import helper\n",
    "\n",
    "data_dir = './data/simpsons/moes_tavern_lines.txt'\n",
    "text = helper.load_data(data_dir)\n",
    "# Ignore notice, since we don't use it for analysing the data\n",
    "text = text[81:]"
   ]
  },
  {
   "cell_type": "markdown",
   "metadata": {
    "deletable": true,
    "editable": true
   },
   "source": [
    "## Explore the Data\n",
    "Play around with `view_sentence_range` to view different parts of the data."
   ]
  },
  {
   "cell_type": "code",
   "execution_count": 2,
   "metadata": {
    "collapsed": false,
    "deletable": true,
    "editable": true
   },
   "outputs": [
    {
     "name": "stdout",
     "output_type": "stream",
     "text": [
      "Dataset Stats\n",
      "Roughly the number of unique words: 11492\n",
      "Number of scenes: 262\n",
      "Average number of sentences in each scene: 15.248091603053435\n",
      "Number of lines: 4257\n",
      "Average number of words in each line: 11.50434578341555\n",
      "\n",
      "The sentences 0 to 10:\n",
      "Moe_Szyslak: (INTO PHONE) Moe's Tavern. Where the elite meet to drink.\n",
      "Bart_Simpson: Eh, yeah, hello, is Mike there? Last name, Rotch.\n",
      "Moe_Szyslak: (INTO PHONE) Hold on, I'll check. (TO BARFLIES) Mike Rotch. Mike Rotch. Hey, has anybody seen Mike Rotch, lately?\n",
      "Moe_Szyslak: (INTO PHONE) Listen you little puke. One of these days I'm gonna catch you, and I'm gonna carve my name on your back with an ice pick.\n",
      "Moe_Szyslak: What's the matter Homer? You're not your normal effervescent self.\n",
      "Homer_Simpson: I got my problems, Moe. Give me another one.\n",
      "Moe_Szyslak: Homer, hey, you should not drink to forget your problems.\n",
      "Barney_Gumble: Yeah, you should only drink to enhance your social skills.\n",
      "\n",
      "\n"
     ]
    }
   ],
   "source": [
    "view_sentence_range = (0, 10)\n",
    "\n",
    "\"\"\"\n",
    "DON'T MODIFY ANYTHING IN THIS CELL\n",
    "\"\"\"\n",
    "import numpy as np\n",
    "\n",
    "print('Dataset Stats')\n",
    "print('Roughly the number of unique words: {}'.format(len({word: None for word in text.split()})))\n",
    "scenes = text.split('\\n\\n')\n",
    "print('Number of scenes: {}'.format(len(scenes)))\n",
    "sentence_count_scene = [scene.count('\\n') for scene in scenes]\n",
    "print('Average number of sentences in each scene: {}'.format(np.average(sentence_count_scene)))\n",
    "\n",
    "sentences = [sentence for scene in scenes for sentence in scene.split('\\n')]\n",
    "print('Number of lines: {}'.format(len(sentences)))\n",
    "word_count_sentence = [len(sentence.split()) for sentence in sentences]\n",
    "print('Average number of words in each line: {}'.format(np.average(word_count_sentence)))\n",
    "\n",
    "print()\n",
    "print('The sentences {} to {}:'.format(*view_sentence_range))\n",
    "print('\\n'.join(text.split('\\n')[view_sentence_range[0]:view_sentence_range[1]]))"
   ]
  },
  {
   "cell_type": "markdown",
   "metadata": {
    "deletable": true,
    "editable": true
   },
   "source": [
    "## Implement Preprocessing Functions\n",
    "The first thing to do to any dataset is preprocessing.  Implement the following preprocessing functions below:\n",
    "- Lookup Table\n",
    "- Tokenize Punctuation\n",
    "\n",
    "### Lookup Table\n",
    "To create a word embedding, you first need to transform the words to ids.  In this function, create two dictionaries:\n",
    "- Dictionary to go from the words to an id, we'll call `vocab_to_int`\n",
    "- Dictionary to go from the id to word, we'll call `int_to_vocab`\n",
    "\n",
    "Return these dictionaries in the following tuple `(vocab_to_int, int_to_vocab)`"
   ]
  },
  {
   "cell_type": "code",
   "execution_count": 3,
   "metadata": {
    "collapsed": false,
    "deletable": true,
    "editable": true
   },
   "outputs": [
    {
     "name": "stdout",
     "output_type": "stream",
     "text": [
      "Tests Passed\n"
     ]
    }
   ],
   "source": [
    "import numpy as np\n",
    "import problem_unittests as tests\n",
    "\n",
    "def create_lookup_tables(text):\n",
    "    \"\"\"\n",
    "    Create lookup tables for vocabulary\n",
    "    :param text: The text of tv scripts split into words\n",
    "    :return: A tuple of dicts (vocab_to_int, int_to_vocab)\n",
    "    \"\"\"\n",
    "    # TODO: Implement Function\n",
    "    unique_words = set(text)\n",
    "    vocab_to_int = {w: i for i, w in enumerate(unique_words)}\n",
    "    int_to_vocab = {i: w for i, w in enumerate(unique_words)}\n",
    "    return vocab_to_int, int_to_vocab\n",
    "\n",
    "\n",
    "\"\"\"\n",
    "DON'T MODIFY ANYTHING IN THIS CELL THAT IS BELOW THIS LINE\n",
    "\"\"\"\n",
    "tests.test_create_lookup_tables(create_lookup_tables)"
   ]
  },
  {
   "cell_type": "markdown",
   "metadata": {
    "deletable": true,
    "editable": true
   },
   "source": [
    "### Tokenize Punctuation\n",
    "We'll be splitting the script into a word array using spaces as delimiters.  However, punctuations like periods and exclamation marks make it hard for the neural network to distinguish between the word \"bye\" and \"bye!\".\n",
    "\n",
    "Implement the function `token_lookup` to return a dict that will be used to tokenize symbols like \"!\" into \"||Exclamation_Mark||\".  Create a dictionary for the following symbols where the symbol is the key and value is the token:\n",
    "- Period ( . )\n",
    "- Comma ( , )\n",
    "- Quotation Mark ( \" )\n",
    "- Semicolon ( ; )\n",
    "- Exclamation mark ( ! )\n",
    "- Question mark ( ? )\n",
    "- Left Parentheses ( ( )\n",
    "- Right Parentheses ( ) )\n",
    "- Dash ( -- )\n",
    "- Return ( \\n )\n",
    "\n",
    "This dictionary will be used to token the symbols and add the delimiter (space) around it.  This separates the symbols as it's own word, making it easier for the neural network to predict on the next word. Make sure you don't use a token that could be confused as a word. Instead of using the token \"dash\", try using something like \"||dash||\"."
   ]
  },
  {
   "cell_type": "code",
   "execution_count": 4,
   "metadata": {
    "collapsed": false,
    "deletable": true,
    "editable": true
   },
   "outputs": [
    {
     "name": "stdout",
     "output_type": "stream",
     "text": [
      "Tests Passed\n"
     ]
    }
   ],
   "source": [
    "def token_lookup():\n",
    "    \"\"\"\n",
    "    Generate a dict to turn punctuation into a token.\n",
    "    :return: Tokenize dictionary where the key is the punctuation and the value is the token\n",
    "    \"\"\"\n",
    "    # TODO: Implement Function\n",
    "    return {'.': '||period||', \n",
    "            ',': '||comma||',\n",
    "            '\"': '||quotation_mark||',\n",
    "            ';': '||semicolon||',\n",
    "            '!': '||exclamation_mark||',\n",
    "            '?': '||question_mark||',\n",
    "            '(': '||left_parantheses||',\n",
    "            ')': '||right_parantheses||',\n",
    "            '--': '||dash||',\n",
    "            '\\n': '||return||'}\n",
    "\n",
    "\"\"\"\n",
    "DON'T MODIFY ANYTHING IN THIS CELL THAT IS BELOW THIS LINE\n",
    "\"\"\"\n",
    "tests.test_tokenize(token_lookup)"
   ]
  },
  {
   "cell_type": "markdown",
   "metadata": {
    "deletable": true,
    "editable": true
   },
   "source": [
    "## Preprocess all the data and save it\n",
    "Running the code cell below will preprocess all the data and save it to file."
   ]
  },
  {
   "cell_type": "code",
   "execution_count": 5,
   "metadata": {
    "collapsed": false,
    "deletable": true,
    "editable": true
   },
   "outputs": [],
   "source": [
    "\"\"\"\n",
    "DON'T MODIFY ANYTHING IN THIS CELL\n",
    "\"\"\"\n",
    "# Preprocess Training, Validation, and Testing Data\n",
    "helper.preprocess_and_save_data(data_dir, token_lookup, create_lookup_tables)"
   ]
  },
  {
   "cell_type": "markdown",
   "metadata": {
    "deletable": true,
    "editable": true
   },
   "source": [
    "# Check Point\n",
    "This is your first checkpoint. If you ever decide to come back to this notebook or have to restart the notebook, you can start from here. The preprocessed data has been saved to disk."
   ]
  },
  {
   "cell_type": "code",
   "execution_count": 6,
   "metadata": {
    "collapsed": false,
    "deletable": true,
    "editable": true
   },
   "outputs": [],
   "source": [
    "\"\"\"\n",
    "DON'T MODIFY ANYTHING IN THIS CELL\n",
    "\"\"\"\n",
    "import helper\n",
    "import numpy as np\n",
    "import problem_unittests as tests\n",
    "\n",
    "int_text, vocab_to_int, int_to_vocab, token_dict = helper.load_preprocess()"
   ]
  },
  {
   "cell_type": "markdown",
   "metadata": {
    "deletable": true,
    "editable": true
   },
   "source": [
    "## Build the Neural Network\n",
    "You'll build the components necessary to build a RNN by implementing the following functions below:\n",
    "- get_inputs\n",
    "- get_init_cell\n",
    "- get_embed\n",
    "- build_rnn\n",
    "- build_nn\n",
    "- get_batches\n",
    "\n",
    "### Check the Version of TensorFlow and Access to GPU\n",
    "Had to used !pip install -U tensorflow-gpu==1.1 to get the gpus running..."
   ]
  },
  {
   "cell_type": "code",
   "execution_count": 8,
   "metadata": {
    "collapsed": false,
    "deletable": true,
    "editable": true
   },
   "outputs": [
    {
     "name": "stdout",
     "output_type": "stream",
     "text": [
      "Collecting tensorflow-gpu==1.1\n",
      "  Using cached tensorflow_gpu-1.1.0-cp35-cp35m-manylinux1_x86_64.whl\n",
      "Collecting protobuf>=3.2.0 (from tensorflow-gpu==1.1)\n",
      "  Using cached protobuf-3.4.0-cp35-cp35m-manylinux1_x86_64.whl\n",
      "Collecting six>=1.10.0 (from tensorflow-gpu==1.1)\n",
      "  Using cached six-1.11.0-py2.py3-none-any.whl\n",
      "Collecting werkzeug>=0.11.10 (from tensorflow-gpu==1.1)\n",
      "  Using cached Werkzeug-0.12.2-py2.py3-none-any.whl\n",
      "Collecting wheel>=0.26 (from tensorflow-gpu==1.1)\n",
      "  Using cached wheel-0.30.0-py2.py3-none-any.whl\n",
      "Collecting numpy>=1.11.0 (from tensorflow-gpu==1.1)\n",
      "  Using cached numpy-1.13.3-cp35-cp35m-manylinux1_x86_64.whl\n",
      "Collecting setuptools (from protobuf>=3.2.0->tensorflow-gpu==1.1)\n",
      "  Using cached setuptools-36.5.0-py2.py3-none-any.whl\n",
      "Installing collected packages: setuptools, six, protobuf, werkzeug, wheel, numpy, tensorflow-gpu\n",
      "  Found existing installation: setuptools 27.2.0\n",
      "\u001b[31mCannot remove entries from nonexistent file /home/carnd/anaconda3/lib/python3.5/site-packages/easy-install.pth\u001b[0m\n",
      "\u001b[33mYou are using pip version 8.1.2, however version 9.0.1 is available.\n",
      "You should consider upgrading via the 'pip install --upgrade pip' command.\u001b[0m\n",
      "TensorFlow Version: 1.2.1\n",
      "Default GPU Device: /gpu:0\n"
     ]
    }
   ],
   "source": [
    "\"\"\"\n",
    "DON'T MODIFY ANYTHING IN THIS CELL\n",
    "\"\"\"\n",
    "from distutils.version import LooseVersion\n",
    "import warnings\n",
    "import tensorflow as tf\n",
    "\n",
    "# Check TensorFlow Version\n",
    "assert LooseVersion(tf.__version__) >= LooseVersion('1.0'), 'Please use TensorFlow version 1.0 or newer'\n",
    "print('TensorFlow Version: {}'.format(tf.__version__))\n",
    "\n",
    "# Check for a GPU\n",
    "if not tf.test.gpu_device_name():\n",
    "    warnings.warn('No GPU found. Please use a GPU to train your neural network.')\n",
    "else:\n",
    "    print('Default GPU Device: {}'.format(tf.test.gpu_device_name()))"
   ]
  },
  {
   "cell_type": "markdown",
   "metadata": {
    "deletable": true,
    "editable": true
   },
   "source": [
    "### Input\n",
    "Implement the `get_inputs()` function to create TF Placeholders for the Neural Network.  It should create the following placeholders:\n",
    "- Input text placeholder named \"input\" using the [TF Placeholder](https://www.tensorflow.org/api_docs/python/tf/placeholder) `name` parameter.\n",
    "- Targets placeholder\n",
    "- Learning Rate placeholder\n",
    "\n",
    "Return the placeholders in the following tuple `(Input, Targets, LearningRate)`"
   ]
  },
  {
   "cell_type": "code",
   "execution_count": 9,
   "metadata": {
    "collapsed": false,
    "deletable": true,
    "editable": true
   },
   "outputs": [
    {
     "name": "stdout",
     "output_type": "stream",
     "text": [
      "Tests Passed\n"
     ]
    }
   ],
   "source": [
    "def get_inputs():\n",
    "    \"\"\"\n",
    "    Create TF Placeholders for input, targets, and learning rate.\n",
    "    :return: Tuple (input, targets, learning rate)\n",
    "    \"\"\"\n",
    "    # TODO: Implement Function\n",
    "    inputs = tf.placeholder(dtype=tf.int32, name='input', shape=[None, None])\n",
    "    targets = tf.placeholder(dtype=tf.int32, name='targets', shape=[None, None])\n",
    "    learning_rate = tf.placeholder(tf.float32, name='learning_rate')\n",
    "    return inputs, targets, learning_rate\n",
    "\n",
    "\n",
    "\"\"\"\n",
    "DON'T MODIFY ANYTHING IN THIS CELL THAT IS BELOW THIS LINE\n",
    "\"\"\"\n",
    "tests.test_get_inputs(get_inputs)"
   ]
  },
  {
   "cell_type": "markdown",
   "metadata": {
    "deletable": true,
    "editable": true
   },
   "source": [
    "### Build RNN Cell and Initialize\n",
    "Stack one or more [`BasicLSTMCells`](https://www.tensorflow.org/api_docs/python/tf/contrib/rnn/BasicLSTMCell) in a [`MultiRNNCell`](https://www.tensorflow.org/api_docs/python/tf/contrib/rnn/MultiRNNCell).\n",
    "- The Rnn size should be set using `rnn_size`\n",
    "- Initalize Cell State using the MultiRNNCell's [`zero_state()`](https://www.tensorflow.org/api_docs/python/tf/contrib/rnn/MultiRNNCell#zero_state) function\n",
    "    - Apply the name \"initial_state\" to the initial state using [`tf.identity()`](https://www.tensorflow.org/api_docs/python/tf/identity)\n",
    "\n",
    "Return the cell and initial state in the following tuple `(Cell, InitialState)`"
   ]
  },
  {
   "cell_type": "code",
   "execution_count": 57,
   "metadata": {
    "collapsed": false,
    "deletable": true,
    "editable": true
   },
   "outputs": [
    {
     "name": "stdout",
     "output_type": "stream",
     "text": [
      "Tests Passed\n"
     ]
    }
   ],
   "source": [
    "def get_init_cell(batch_size, rnn_size):\n",
    "    \"\"\"\n",
    "    Create an RNN Cell and initialize it.\n",
    "    :param batch_size: Size of batches\n",
    "    :param rnn_size: Size of RNNs\n",
    "    :return: Tuple (cell, initialize state)\n",
    "    \"\"\"\n",
    "    # TODO: Implement Function\n",
    "    num_layers = 1\n",
    "    def build_cell(rnn_size):\n",
    "        # Use a basic LSTM cell\n",
    "        lstm = tf.contrib.rnn.BasicLSTMCell(rnn_size)\n",
    "    #    \n",
    "    #    # Add dropout to the cell\n",
    "    #    drop = tf.contrib.rnn.DropoutWrapper(lstm, output_keep_prob=0.5)\n",
    "        return lstm\n",
    "    \n",
    "    # Stack up multiple LSTM layers, for deep learning\n",
    "    cell = tf.contrib.rnn.MultiRNNCell([build_cell(rnn_size) for _ in range(num_layers)])\n",
    "    initial_state = tf.identity(cell.zero_state(batch_size, tf.float32), name='initial_state')\n",
    "    return cell, initial_state\n",
    "\n",
    "\n",
    "\"\"\"\n",
    "DON'T MODIFY ANYTHING IN THIS CELL THAT IS BELOW THIS LINE\n",
    "\"\"\"\n",
    "tests.test_get_init_cell(get_init_cell)"
   ]
  },
  {
   "cell_type": "markdown",
   "metadata": {
    "deletable": true,
    "editable": true
   },
   "source": [
    "### Word Embedding\n",
    "Apply embedding to `input_data` using TensorFlow.  Return the embedded sequence."
   ]
  },
  {
   "cell_type": "code",
   "execution_count": 58,
   "metadata": {
    "collapsed": false,
    "deletable": true,
    "editable": true
   },
   "outputs": [
    {
     "name": "stdout",
     "output_type": "stream",
     "text": [
      "Tests Passed\n"
     ]
    }
   ],
   "source": [
    "def get_embed(input_data, vocab_size, embed_dim):\n",
    "    \"\"\"\n",
    "    Create embedding for <input_data>.\n",
    "    :param input_data: TF placeholder for text input.\n",
    "    :param vocab_size: Number of words in vocabulary.\n",
    "    :param embed_dim: Number of embedding dimensions\n",
    "    :return: Embedded input.\n",
    "    \"\"\"\n",
    "    # TODO: Implement Function\n",
    "    embedding = tf.Variable(tf.random_uniform((vocab_size, embed_dim), -1, 1))\n",
    "    embed = tf.nn.embedding_lookup(embedding, input_data)\n",
    "    return embed\n",
    "\n",
    "\n",
    "\"\"\"\n",
    "DON'T MODIFY ANYTHING IN THIS CELL THAT IS BELOW THIS LINE\n",
    "\"\"\"\n",
    "tests.test_get_embed(get_embed)"
   ]
  },
  {
   "cell_type": "markdown",
   "metadata": {
    "deletable": true,
    "editable": true
   },
   "source": [
    "### Build RNN\n",
    "You created a RNN Cell in the `get_init_cell()` function.  Time to use the cell to create a RNN.\n",
    "- Build the RNN using the [`tf.nn.dynamic_rnn()`](https://www.tensorflow.org/api_docs/python/tf/nn/dynamic_rnn)\n",
    " - Apply the name \"final_state\" to the final state using [`tf.identity()`](https://www.tensorflow.org/api_docs/python/tf/identity)\n",
    "\n",
    "Return the outputs and final_state state in the following tuple `(Outputs, FinalState)` "
   ]
  },
  {
   "cell_type": "code",
   "execution_count": 59,
   "metadata": {
    "collapsed": false,
    "deletable": true,
    "editable": true
   },
   "outputs": [
    {
     "name": "stdout",
     "output_type": "stream",
     "text": [
      "Tests Passed\n"
     ]
    }
   ],
   "source": [
    "def build_rnn(cell, inputs):\n",
    "    \"\"\"\n",
    "    Create a RNN using a RNN Cell\n",
    "    :param cell: RNN Cell\n",
    "    :param inputs: Input text data\n",
    "    :return: Tuple (Outputs, Final State)\n",
    "    \"\"\"\n",
    "    # TODO: Implement Function\n",
    "          \n",
    "    # Run each sequence step through the RNN and collect the outputs\n",
    "    outputs, state = tf.nn.dynamic_rnn(cell, inputs, dtype=tf.float32)\n",
    "    final_state = tf.identity(state, name='final_state')\n",
    "    \n",
    "    return outputs, final_state\n",
    "\n",
    "\n",
    "\"\"\"\n",
    "DON'T MODIFY ANYTHING IN THIS CELL THAT IS BELOW THIS LINE\n",
    "\"\"\"\n",
    "tests.test_build_rnn(build_rnn)"
   ]
  },
  {
   "cell_type": "markdown",
   "metadata": {
    "deletable": true,
    "editable": true
   },
   "source": [
    "### Build the Neural Network\n",
    "Apply the functions you implemented above to:\n",
    "- Apply embedding to `input_data` using your `get_embed(input_data, vocab_size, embed_dim)` function.\n",
    "- Build RNN using `cell` and your `build_rnn(cell, inputs)` function.\n",
    "- Apply a fully connected layer with a linear activation and `vocab_size` as the number of outputs.\n",
    "\n",
    "Return the logits and final state in the following tuple (Logits, FinalState) "
   ]
  },
  {
   "cell_type": "code",
   "execution_count": 62,
   "metadata": {
    "collapsed": false,
    "deletable": true,
    "editable": true
   },
   "outputs": [
    {
     "name": "stdout",
     "output_type": "stream",
     "text": [
      "Tests Passed\n"
     ]
    }
   ],
   "source": [
    "def build_nn(cell, rnn_size, input_data, vocab_size, embed_dim):\n",
    "    \"\"\"\n",
    "    Build part of the neural network\n",
    "    :param cell: RNN cell\n",
    "    :param rnn_size: Size of rnns\n",
    "    :param input_data: Input data\n",
    "    :param vocab_size: Vocabulary size\n",
    "    :param embed_dim: Number of embedding dimensions\n",
    "    :return: Tuple (Logits, FinalState)\n",
    "    \"\"\"\n",
    "    # TODO: Implement Function\n",
    "    embedded_input = get_embed(input_data=input_data, vocab_size=vocab_size, embed_dim=embed_dim)\n",
    "    lstm_output, final_state = build_rnn(cell=cell, inputs=embedded_input)\n",
    "    \n",
    "    # Reshape output so it's a bunch of rows, one row for each step for each sequence.\n",
    "    # That is, the shape should be batch_size*num_steps rows by lstm_size columns\n",
    "    #seq_output = tf.concat(lstm_output, axis=1)\n",
    "    #x = tf.reshape(seq_output, [-1, rnn_size])\n",
    "    \n",
    "    # Connect the RNN outputs to a softmax layer\n",
    "    #with tf.variable_scope('linear_activation'):\n",
    "    #    linear_w = tf.Variable(tf.truncated_normal((rnn_size, vocab_size), stddev=0.1))\n",
    "    #    linear_b = tf.Variable(tf.zeros(vocab_size))\n",
    "    \n",
    "    # Since output is a bunch of rows of RNN cell outputs, logits will be a bunch\n",
    "    # of rows of logit outputs, one for each step and sequence\n",
    "    #logits = tf.add(tf.matmul(lstm_output, linear_w), linear_b)\n",
    "    \n",
    "    # USE LOWER-LEVEL FUNCTIONS!!!\n",
    "    logits = tf.contrib.layers.fully_connected(inputs=lstm_output, activation_fn=None, num_outputs=vocab_size)\n",
    "    \n",
    "    return logits, final_state\n",
    "\n",
    "\n",
    "\"\"\"\n",
    "DON'T MODIFY ANYTHING IN THIS CELL THAT IS BELOW THIS LINE\n",
    "\"\"\"\n",
    "tests.test_build_nn(build_nn)"
   ]
  },
  {
   "cell_type": "markdown",
   "metadata": {
    "deletable": true,
    "editable": true
   },
   "source": [
    "### Batches\n",
    "Implement `get_batches` to create batches of input and targets using `int_text`.  The batches should be a Numpy array with the shape `(number of batches, 2, batch size, sequence length)`. Each batch contains two elements:\n",
    "- The first element is a single batch of **input** with the shape `[batch size, sequence length]`\n",
    "- The second element is a single batch of **targets** with the shape `[batch size, sequence length]`\n",
    "\n",
    "If you can't fill the last batch with enough data, drop the last batch.\n",
    "\n",
    "For exmple, `get_batches([1, 2, 3, 4, 5, 6, 7, 8, 9, 10, 11, 12, 13, 14, 15, 16, 17, 18, 19, 20], 3, 2)` would return a Numpy array of the following:\n",
    "```\n",
    "[\n",
    "  # First Batch\n",
    "  [\n",
    "    # Batch of Input\n",
    "    [[ 1  2], [ 7  8], [13 14]]\n",
    "    # Batch of targets\n",
    "    [[ 2  3], [ 8  9], [14 15]]\n",
    "  ]\n",
    "\n",
    "  # Second Batch\n",
    "  [\n",
    "    # Batch of Input\n",
    "    [[ 3  4], [ 9 10], [15 16]]\n",
    "    # Batch of targets\n",
    "    [[ 4  5], [10 11], [16 17]]\n",
    "  ]\n",
    "\n",
    "  # Third Batch\n",
    "  [\n",
    "    # Batch of Input\n",
    "    [[ 5  6], [11 12], [17 18]]\n",
    "    # Batch of targets\n",
    "    [[ 6  7], [12 13], [18  1]]\n",
    "  ]\n",
    "]\n",
    "```\n",
    "\n",
    "Notice that the last target value in the last batch is the first input value of the first batch. In this case, `1`. This is a common technique used when creating sequence batches, although it is rather unintuitive."
   ]
  },
  {
   "cell_type": "code",
   "execution_count": 63,
   "metadata": {
    "collapsed": false,
    "deletable": true,
    "editable": true
   },
   "outputs": [
    {
     "name": "stdout",
     "output_type": "stream",
     "text": [
      "Tests Passed\n"
     ]
    }
   ],
   "source": [
    "def get_batches(int_text, batch_size, seq_length):\n",
    "    \"\"\"\n",
    "    Return batches of input and target\n",
    "    :param int_text: Text with the words replaced by their ids\n",
    "    :param batch_size: The size of batch\n",
    "    :param seq_length: The length of sequence\n",
    "    :return: Batches as a Numpy array\n",
    "    \"\"\"\n",
    "    # TODO: Implement Function\n",
    "    # Get the number of characters per batch and number of batches we can make\n",
    "    words_per_batch = batch_size * seq_length\n",
    "    n_batches = len(int_text)//words_per_batch\n",
    "    \n",
    "    x_text = np.array(int_text[:n_batches * words_per_batch])\n",
    "    y_text = np.append(x_text[1:], x_text[0])\n",
    "    x_text, y_text = x_text.reshape((batch_size, -1)), y_text.reshape((batch_size, -1))\n",
    "\n",
    "    test_out = [[x_text[:, n:n+seq_length], y_text[:, n:n+seq_length]] for n in range(0, x_text.shape[1], seq_length)]\n",
    "\n",
    "    return np.array(test_out)\n",
    "\n",
    "\n",
    "\"\"\"\n",
    "DON'T MODIFY ANYTHING IN THIS CELL THAT IS BELOW THIS LINE\n",
    "\"\"\"\n",
    "tests.test_get_batches(get_batches)"
   ]
  },
  {
   "cell_type": "markdown",
   "metadata": {
    "deletable": true,
    "editable": true
   },
   "source": [
    "## Neural Network Training\n",
    "### Hyperparameters\n",
    "Tune the following parameters:\n",
    "\n",
    "- Set `num_epochs` to the number of epochs.\n",
    "- Set `batch_size` to the batch size.\n",
    "- Set `rnn_size` to the size of the RNNs.\n",
    "- Set `embed_dim` to the size of the embedding.\n",
    "- Set `seq_length` to the length of sequence.\n",
    "- Set `learning_rate` to the learning rate.\n",
    "- Set `show_every_n_batches` to the number of batches the neural network should print progress."
   ]
  },
  {
   "cell_type": "code",
   "execution_count": 64,
   "metadata": {
    "collapsed": true,
    "deletable": true,
    "editable": true
   },
   "outputs": [],
   "source": [
    "# Number of Epochs\n",
    "num_epochs = 200\n",
    "# Batch Size\n",
    "batch_size = 128\n",
    "# RNN Size\n",
    "rnn_size = 512\n",
    "# Embedding Dimension Size\n",
    "embed_dim = 200 #len(int_to_vocab)\n",
    "# Sequence Length\n",
    "seq_length = 36\n",
    "# Learning Rate\n",
    "learning_rate = 0.001\n",
    "# Show stats for every n number of batches\n",
    "show_every_n_batches = 5\n",
    "\n",
    "\"\"\"\n",
    "DON'T MODIFY ANYTHING IN THIS CELL THAT IS BELOW THIS LINE\n",
    "\"\"\"\n",
    "save_dir = './save'"
   ]
  },
  {
   "cell_type": "markdown",
   "metadata": {
    "deletable": true,
    "editable": true
   },
   "source": [
    "### Build the Graph\n",
    "Build the graph using the neural network you implemented."
   ]
  },
  {
   "cell_type": "code",
   "execution_count": 65,
   "metadata": {
    "collapsed": false,
    "deletable": true,
    "editable": true
   },
   "outputs": [],
   "source": [
    "\"\"\"\n",
    "DON'T MODIFY ANYTHING IN THIS CELL\n",
    "\"\"\"\n",
    "from tensorflow.contrib import seq2seq\n",
    "\n",
    "train_graph = tf.Graph()\n",
    "with train_graph.as_default():\n",
    "    vocab_size = len(int_to_vocab)\n",
    "    input_text, targets, lr = get_inputs()\n",
    "    input_data_shape = tf.shape(input_text)\n",
    "    cell, initial_state = get_init_cell(input_data_shape[0], rnn_size)\n",
    "    logits, final_state = build_nn(cell, rnn_size, input_text, vocab_size, embed_dim)\n",
    "\n",
    "    # Probabilities for generating words\n",
    "    probs = tf.nn.softmax(logits, name='probs')\n",
    "\n",
    "    # Loss function\n",
    "    cost = seq2seq.sequence_loss(\n",
    "        logits,\n",
    "        targets,\n",
    "        tf.ones([input_data_shape[0], input_data_shape[1]]))\n",
    "\n",
    "    # Optimizer\n",
    "    optimizer = tf.train.AdamOptimizer(lr)\n",
    "\n",
    "    # Gradient Clipping\n",
    "    gradients = optimizer.compute_gradients(cost)\n",
    "    capped_gradients = [(tf.clip_by_value(grad, -1., 1.), var) for grad, var in gradients if grad is not None]\n",
    "    train_op = optimizer.apply_gradients(capped_gradients)"
   ]
  },
  {
   "cell_type": "markdown",
   "metadata": {
    "deletable": true,
    "editable": true
   },
   "source": [
    "## Train\n",
    "Train the neural network on the preprocessed data.  If you have a hard time getting a good loss, check the [forums](https://discussions.udacity.com/) to see if anyone is having the same problem."
   ]
  },
  {
   "cell_type": "code",
   "execution_count": 66,
   "metadata": {
    "collapsed": false,
    "deletable": true,
    "editable": true,
    "scrolled": true
   },
   "outputs": [
    {
     "name": "stdout",
     "output_type": "stream",
     "text": [
      "Epoch   0 Batch    0/14   train_loss = 8.824\n",
      "Epoch   0 Batch    5/14   train_loss = 7.675\n",
      "Epoch   0 Batch   10/14   train_loss = 6.392\n",
      "Epoch   1 Batch    1/14   train_loss = 6.377\n",
      "Epoch   1 Batch    6/14   train_loss = 6.297\n",
      "Epoch   1 Batch   11/14   train_loss = 6.044\n",
      "Epoch   2 Batch    2/14   train_loss = 6.152\n",
      "Epoch   2 Batch    7/14   train_loss = 5.974\n",
      "Epoch   2 Batch   12/14   train_loss = 6.004\n",
      "Epoch   3 Batch    3/14   train_loss = 5.918\n",
      "Epoch   3 Batch    8/14   train_loss = 5.871\n",
      "Epoch   3 Batch   13/14   train_loss = 5.894\n",
      "Epoch   4 Batch    4/14   train_loss = 5.691\n",
      "Epoch   4 Batch    9/14   train_loss = 5.724\n",
      "Epoch   5 Batch    0/14   train_loss = 5.653\n",
      "Epoch   5 Batch    5/14   train_loss = 5.639\n",
      "Epoch   5 Batch   10/14   train_loss = 5.654\n",
      "Epoch   6 Batch    1/14   train_loss = 5.491\n",
      "Epoch   6 Batch    6/14   train_loss = 5.587\n",
      "Epoch   6 Batch   11/14   train_loss = 5.372\n",
      "Epoch   7 Batch    2/14   train_loss = 5.445\n",
      "Epoch   7 Batch    7/14   train_loss = 5.286\n",
      "Epoch   7 Batch   12/14   train_loss = 5.374\n",
      "Epoch   8 Batch    3/14   train_loss = 5.285\n",
      "Epoch   8 Batch    8/14   train_loss = 5.230\n",
      "Epoch   8 Batch   13/14   train_loss = 5.317\n",
      "Epoch   9 Batch    4/14   train_loss = 5.074\n",
      "Epoch   9 Batch    9/14   train_loss = 5.136\n",
      "Epoch  10 Batch    0/14   train_loss = 5.093\n",
      "Epoch  10 Batch    5/14   train_loss = 5.062\n",
      "Epoch  10 Batch   10/14   train_loss = 5.107\n",
      "Epoch  11 Batch    1/14   train_loss = 4.957\n",
      "Epoch  11 Batch    6/14   train_loss = 5.067\n",
      "Epoch  11 Batch   11/14   train_loss = 4.857\n",
      "Epoch  12 Batch    2/14   train_loss = 4.939\n",
      "Epoch  12 Batch    7/14   train_loss = 4.789\n",
      "Epoch  12 Batch   12/14   train_loss = 4.894\n",
      "Epoch  13 Batch    3/14   train_loss = 4.830\n",
      "Epoch  13 Batch    8/14   train_loss = 4.780\n",
      "Epoch  13 Batch   13/14   train_loss = 4.887\n",
      "Epoch  14 Batch    4/14   train_loss = 4.649\n",
      "Epoch  14 Batch    9/14   train_loss = 4.715\n",
      "Epoch  15 Batch    0/14   train_loss = 4.692\n",
      "Epoch  15 Batch    5/14   train_loss = 4.667\n",
      "Epoch  15 Batch   10/14   train_loss = 4.714\n",
      "Epoch  16 Batch    1/14   train_loss = 4.580\n",
      "Epoch  16 Batch    6/14   train_loss = 4.697\n",
      "Epoch  16 Batch   11/14   train_loss = 4.501\n",
      "Epoch  17 Batch    2/14   train_loss = 4.580\n",
      "Epoch  17 Batch    7/14   train_loss = 4.445\n",
      "Epoch  17 Batch   12/14   train_loss = 4.541\n",
      "Epoch  18 Batch    3/14   train_loss = 4.496\n",
      "Epoch  18 Batch    8/14   train_loss = 4.453\n",
      "Epoch  18 Batch   13/14   train_loss = 4.562\n",
      "Epoch  19 Batch    4/14   train_loss = 4.337\n",
      "Epoch  19 Batch    9/14   train_loss = 4.400\n",
      "Epoch  20 Batch    0/14   train_loss = 4.384\n",
      "Epoch  20 Batch    5/14   train_loss = 4.360\n",
      "Epoch  20 Batch   10/14   train_loss = 4.409\n",
      "Epoch  21 Batch    1/14   train_loss = 4.290\n",
      "Epoch  21 Batch    6/14   train_loss = 4.391\n",
      "Epoch  21 Batch   11/14   train_loss = 4.223\n",
      "Epoch  22 Batch    2/14   train_loss = 4.283\n",
      "Epoch  22 Batch    7/14   train_loss = 4.168\n",
      "Epoch  22 Batch   12/14   train_loss = 4.250\n",
      "Epoch  23 Batch    3/14   train_loss = 4.219\n",
      "Epoch  23 Batch    8/14   train_loss = 4.180\n",
      "Epoch  23 Batch   13/14   train_loss = 4.279\n",
      "Epoch  24 Batch    4/14   train_loss = 4.083\n",
      "Epoch  24 Batch    9/14   train_loss = 4.133\n",
      "Epoch  25 Batch    0/14   train_loss = 4.127\n",
      "Epoch  25 Batch    5/14   train_loss = 4.102\n",
      "Epoch  25 Batch   10/14   train_loss = 4.141\n",
      "Epoch  26 Batch    1/14   train_loss = 4.045\n",
      "Epoch  26 Batch    6/14   train_loss = 4.125\n",
      "Epoch  26 Batch   11/14   train_loss = 3.979\n",
      "Epoch  27 Batch    2/14   train_loss = 4.020\n",
      "Epoch  27 Batch    7/14   train_loss = 3.935\n",
      "Epoch  27 Batch   12/14   train_loss = 3.990\n",
      "Epoch  28 Batch    3/14   train_loss = 3.969\n",
      "Epoch  28 Batch    8/14   train_loss = 3.946\n",
      "Epoch  28 Batch   13/14   train_loss = 4.023\n",
      "Epoch  29 Batch    4/14   train_loss = 3.844\n",
      "Epoch  29 Batch    9/14   train_loss = 3.901\n",
      "Epoch  30 Batch    0/14   train_loss = 3.890\n",
      "Epoch  30 Batch    5/14   train_loss = 3.849\n",
      "Epoch  30 Batch   10/14   train_loss = 3.899\n",
      "Epoch  31 Batch    1/14   train_loss = 3.816\n",
      "Epoch  31 Batch    6/14   train_loss = 3.866\n",
      "Epoch  31 Batch   11/14   train_loss = 3.754\n",
      "Epoch  32 Batch    2/14   train_loss = 3.782\n",
      "Epoch  32 Batch    7/14   train_loss = 3.703\n",
      "Epoch  32 Batch   12/14   train_loss = 3.751\n",
      "Epoch  33 Batch    3/14   train_loss = 3.732\n",
      "Epoch  33 Batch    8/14   train_loss = 3.720\n",
      "Epoch  33 Batch   13/14   train_loss = 3.783\n",
      "Epoch  34 Batch    4/14   train_loss = 3.623\n",
      "Epoch  34 Batch    9/14   train_loss = 3.678\n",
      "Epoch  35 Batch    0/14   train_loss = 3.666\n",
      "Epoch  35 Batch    5/14   train_loss = 3.628\n",
      "Epoch  35 Batch   10/14   train_loss = 3.668\n",
      "Epoch  36 Batch    1/14   train_loss = 3.614\n",
      "Epoch  36 Batch    6/14   train_loss = 3.629\n",
      "Epoch  36 Batch   11/14   train_loss = 3.546\n",
      "Epoch  37 Batch    2/14   train_loss = 3.568\n",
      "Epoch  37 Batch    7/14   train_loss = 3.507\n",
      "Epoch  37 Batch   12/14   train_loss = 3.539\n",
      "Epoch  38 Batch    3/14   train_loss = 3.523\n",
      "Epoch  38 Batch    8/14   train_loss = 3.522\n",
      "Epoch  38 Batch   13/14   train_loss = 3.568\n",
      "Epoch  39 Batch    4/14   train_loss = 3.424\n",
      "Epoch  39 Batch    9/14   train_loss = 3.482\n",
      "Epoch  40 Batch    0/14   train_loss = 3.471\n",
      "Epoch  40 Batch    5/14   train_loss = 3.423\n",
      "Epoch  40 Batch   10/14   train_loss = 3.461\n",
      "Epoch  41 Batch    1/14   train_loss = 3.422\n",
      "Epoch  41 Batch    6/14   train_loss = 3.400\n",
      "Epoch  41 Batch   11/14   train_loss = 3.357\n",
      "Epoch  42 Batch    2/14   train_loss = 3.352\n",
      "Epoch  42 Batch    7/14   train_loss = 3.310\n",
      "Epoch  42 Batch   12/14   train_loss = 3.333\n",
      "Epoch  43 Batch    3/14   train_loss = 3.316\n",
      "Epoch  43 Batch    8/14   train_loss = 3.327\n",
      "Epoch  43 Batch   13/14   train_loss = 3.356\n",
      "Epoch  44 Batch    4/14   train_loss = 3.236\n",
      "Epoch  44 Batch    9/14   train_loss = 3.289\n",
      "Epoch  45 Batch    0/14   train_loss = 3.282\n",
      "Epoch  45 Batch    5/14   train_loss = 3.221\n",
      "Epoch  45 Batch   10/14   train_loss = 3.267\n",
      "Epoch  46 Batch    1/14   train_loss = 3.248\n",
      "Epoch  46 Batch    6/14   train_loss = 3.198\n",
      "Epoch  46 Batch   11/14   train_loss = 3.191\n",
      "Epoch  47 Batch    2/14   train_loss = 3.166\n",
      "Epoch  47 Batch    7/14   train_loss = 3.140\n",
      "Epoch  47 Batch   12/14   train_loss = 3.164\n",
      "Epoch  48 Batch    3/14   train_loss = 3.139\n",
      "Epoch  48 Batch    8/14   train_loss = 3.162\n",
      "Epoch  48 Batch   13/14   train_loss = 3.186\n",
      "Epoch  49 Batch    4/14   train_loss = 3.077\n",
      "Epoch  49 Batch    9/14   train_loss = 3.127\n",
      "Epoch  50 Batch    0/14   train_loss = 3.125\n",
      "Epoch  50 Batch    5/14   train_loss = 3.058\n",
      "Epoch  50 Batch   10/14   train_loss = 3.094\n",
      "Epoch  51 Batch    1/14   train_loss = 3.111\n",
      "Epoch  51 Batch    6/14   train_loss = 3.020\n",
      "Epoch  51 Batch   11/14   train_loss = 3.027\n",
      "Epoch  52 Batch    2/14   train_loss = 3.007\n",
      "Epoch  52 Batch    7/14   train_loss = 2.994\n",
      "Epoch  52 Batch   12/14   train_loss = 2.991\n",
      "Epoch  53 Batch    3/14   train_loss = 2.983\n",
      "Epoch  53 Batch    8/14   train_loss = 3.003\n",
      "Epoch  53 Batch   13/14   train_loss = 3.002\n",
      "Epoch  54 Batch    4/14   train_loss = 2.920\n",
      "Epoch  54 Batch    9/14   train_loss = 2.961\n",
      "Epoch  55 Batch    0/14   train_loss = 2.947\n",
      "Epoch  55 Batch    5/14   train_loss = 2.894\n",
      "Epoch  55 Batch   10/14   train_loss = 2.937\n",
      "Epoch  56 Batch    1/14   train_loss = 2.933\n",
      "Epoch  56 Batch    6/14   train_loss = 2.851\n",
      "Epoch  56 Batch   11/14   train_loss = 2.902\n",
      "Epoch  57 Batch    2/14   train_loss = 2.835\n",
      "Epoch  57 Batch    7/14   train_loss = 2.836\n",
      "Epoch  57 Batch   12/14   train_loss = 2.859\n",
      "Epoch  58 Batch    3/14   train_loss = 2.816\n",
      "Epoch  58 Batch    8/14   train_loss = 2.846\n",
      "Epoch  58 Batch   13/14   train_loss = 2.872\n",
      "Epoch  59 Batch    4/14   train_loss = 2.765\n",
      "Epoch  59 Batch    9/14   train_loss = 2.795\n",
      "Epoch  60 Batch    0/14   train_loss = 2.833\n",
      "Epoch  60 Batch    5/14   train_loss = 2.743\n",
      "Epoch  60 Batch   10/14   train_loss = 2.764\n",
      "Epoch  61 Batch    1/14   train_loss = 2.819\n",
      "Epoch  61 Batch    6/14   train_loss = 2.687\n",
      "Epoch  61 Batch   11/14   train_loss = 2.733\n",
      "Epoch  62 Batch    2/14   train_loss = 2.701\n",
      "Epoch  62 Batch    7/14   train_loss = 2.699\n",
      "Epoch  62 Batch   12/14   train_loss = 2.693\n",
      "Epoch  63 Batch    3/14   train_loss = 2.677\n",
      "Epoch  63 Batch    8/14   train_loss = 2.699\n",
      "Epoch  63 Batch   13/14   train_loss = 2.693\n",
      "Epoch  64 Batch    4/14   train_loss = 2.629\n",
      "Epoch  64 Batch    9/14   train_loss = 2.650\n",
      "Epoch  65 Batch    0/14   train_loss = 2.669\n",
      "Epoch  65 Batch    5/14   train_loss = 2.600\n",
      "Epoch  65 Batch   10/14   train_loss = 2.612\n",
      "Epoch  66 Batch    1/14   train_loss = 2.673\n",
      "Epoch  66 Batch    6/14   train_loss = 2.534\n",
      "Epoch  66 Batch   11/14   train_loss = 2.601\n",
      "Epoch  67 Batch    2/14   train_loss = 2.562\n",
      "Epoch  67 Batch    7/14   train_loss = 2.561\n",
      "Epoch  67 Batch   12/14   train_loss = 2.552\n",
      "Epoch  68 Batch    3/14   train_loss = 2.545\n",
      "Epoch  68 Batch    8/14   train_loss = 2.564\n",
      "Epoch  68 Batch   13/14   train_loss = 2.553\n",
      "Epoch  69 Batch    4/14   train_loss = 2.501\n",
      "Epoch  69 Batch    9/14   train_loss = 2.508\n",
      "Epoch  70 Batch    0/14   train_loss = 2.532\n",
      "Epoch  70 Batch    5/14   train_loss = 2.472\n",
      "Epoch  70 Batch   10/14   train_loss = 2.461\n",
      "Epoch  71 Batch    1/14   train_loss = 2.531\n",
      "Epoch  71 Batch    6/14   train_loss = 2.407\n",
      "Epoch  71 Batch   11/14   train_loss = 2.467\n",
      "Epoch  72 Batch    2/14   train_loss = 2.424\n",
      "Epoch  72 Batch    7/14   train_loss = 2.444\n",
      "Epoch  72 Batch   12/14   train_loss = 2.420\n",
      "Epoch  73 Batch    3/14   train_loss = 2.409\n",
      "Epoch  73 Batch    8/14   train_loss = 2.455\n",
      "Epoch  73 Batch   13/14   train_loss = 2.418\n",
      "Epoch  74 Batch    4/14   train_loss = 2.375\n",
      "Epoch  74 Batch    9/14   train_loss = 2.398\n",
      "Epoch  75 Batch    0/14   train_loss = 2.404\n",
      "Epoch  75 Batch    5/14   train_loss = 2.356\n",
      "Epoch  75 Batch   10/14   train_loss = 2.348\n",
      "Epoch  76 Batch    1/14   train_loss = 2.416\n",
      "Epoch  76 Batch    6/14   train_loss = 2.278\n",
      "Epoch  76 Batch   11/14   train_loss = 2.359\n",
      "Epoch  77 Batch    2/14   train_loss = 2.303\n",
      "Epoch  77 Batch    7/14   train_loss = 2.334\n",
      "Epoch  77 Batch   12/14   train_loss = 2.306\n",
      "Epoch  78 Batch    3/14   train_loss = 2.298\n",
      "Epoch  78 Batch    8/14   train_loss = 2.339\n",
      "Epoch  78 Batch   13/14   train_loss = 2.295\n",
      "Epoch  79 Batch    4/14   train_loss = 2.268\n",
      "Epoch  79 Batch    9/14   train_loss = 2.288\n",
      "Epoch  80 Batch    0/14   train_loss = 2.290\n",
      "Epoch  80 Batch    5/14   train_loss = 2.239\n",
      "Epoch  80 Batch   10/14   train_loss = 2.228\n",
      "Epoch  81 Batch    1/14   train_loss = 2.312\n",
      "Epoch  81 Batch    6/14   train_loss = 2.172\n",
      "Epoch  81 Batch   11/14   train_loss = 2.253\n",
      "Epoch  82 Batch    2/14   train_loss = 2.194\n",
      "Epoch  82 Batch    7/14   train_loss = 2.236\n",
      "Epoch  82 Batch   12/14   train_loss = 2.196\n",
      "Epoch  83 Batch    3/14   train_loss = 2.191\n",
      "Epoch  83 Batch    8/14   train_loss = 2.243\n",
      "Epoch  83 Batch   13/14   train_loss = 2.190\n",
      "Epoch  84 Batch    4/14   train_loss = 2.161\n",
      "Epoch  84 Batch    9/14   train_loss = 2.197\n",
      "Epoch  85 Batch    0/14   train_loss = 2.194\n",
      "Epoch  85 Batch    5/14   train_loss = 2.128\n",
      "Epoch  85 Batch   10/14   train_loss = 2.161\n",
      "Epoch  86 Batch    1/14   train_loss = 2.233\n",
      "Epoch  86 Batch    6/14   train_loss = 2.049\n",
      "Epoch  86 Batch   11/14   train_loss = 2.200\n",
      "Epoch  87 Batch    2/14   train_loss = 2.134\n",
      "Epoch  87 Batch    7/14   train_loss = 2.131\n",
      "Epoch  87 Batch   12/14   train_loss = 2.175\n",
      "Epoch  88 Batch    3/14   train_loss = 2.139\n",
      "Epoch  88 Batch    8/14   train_loss = 2.139\n",
      "Epoch  88 Batch   13/14   train_loss = 2.176\n",
      "Epoch  89 Batch    4/14   train_loss = 2.105\n",
      "Epoch  89 Batch    9/14   train_loss = 2.090\n",
      "Epoch  90 Batch    0/14   train_loss = 2.156\n",
      "Epoch  90 Batch    5/14   train_loss = 2.070\n",
      "Epoch  90 Batch   10/14   train_loss = 2.037\n",
      "Epoch  91 Batch    1/14   train_loss = 2.153\n",
      "Epoch  91 Batch    6/14   train_loss = 1.980\n",
      "Epoch  91 Batch   11/14   train_loss = 2.060\n",
      "Epoch  92 Batch    2/14   train_loss = 2.014\n",
      "Epoch  92 Batch    7/14   train_loss = 2.066\n",
      "Epoch  92 Batch   12/14   train_loss = 2.004\n",
      "Epoch  93 Batch    3/14   train_loss = 2.013\n",
      "Epoch  93 Batch    8/14   train_loss = 2.048\n",
      "Epoch  93 Batch   13/14   train_loss = 2.012\n",
      "Epoch  94 Batch    4/14   train_loss = 1.981\n",
      "Epoch  94 Batch    9/14   train_loss = 1.995\n",
      "Epoch  95 Batch    0/14   train_loss = 2.032\n",
      "Epoch  95 Batch    5/14   train_loss = 1.943\n",
      "Epoch  95 Batch   10/14   train_loss = 1.961\n",
      "Epoch  96 Batch    1/14   train_loss = 2.103\n",
      "Epoch  96 Batch    6/14   train_loss = 1.879\n",
      "Epoch  96 Batch   11/14   train_loss = 2.030\n",
      "Epoch  97 Batch    2/14   train_loss = 2.046\n",
      "Epoch  97 Batch    7/14   train_loss = 1.984\n",
      "Epoch  97 Batch   12/14   train_loss = 2.072\n",
      "Epoch  98 Batch    3/14   train_loss = 2.056\n",
      "Epoch  98 Batch    8/14   train_loss = 1.976\n",
      "Epoch  98 Batch   13/14   train_loss = 2.045\n",
      "Epoch  99 Batch    4/14   train_loss = 1.962\n",
      "Epoch  99 Batch    9/14   train_loss = 1.922\n",
      "Epoch 100 Batch    0/14   train_loss = 1.937\n",
      "Epoch 100 Batch    5/14   train_loss = 1.892\n",
      "Epoch 100 Batch   10/14   train_loss = 1.837\n",
      "Epoch 101 Batch    1/14   train_loss = 1.927\n",
      "Epoch 101 Batch    6/14   train_loss = 1.798\n",
      "Epoch 101 Batch   11/14   train_loss = 1.878\n",
      "Epoch 102 Batch    2/14   train_loss = 1.800\n",
      "Epoch 102 Batch    7/14   train_loss = 1.862\n",
      "Epoch 102 Batch   12/14   train_loss = 1.837\n",
      "Epoch 103 Batch    3/14   train_loss = 1.813\n",
      "Epoch 103 Batch    8/14   train_loss = 1.824\n",
      "Epoch 103 Batch   13/14   train_loss = 1.815\n",
      "Epoch 104 Batch    4/14   train_loss = 1.792\n",
      "Epoch 104 Batch    9/14   train_loss = 1.766\n",
      "Epoch 105 Batch    0/14   train_loss = 1.794\n",
      "Epoch 105 Batch    5/14   train_loss = 1.754\n",
      "Epoch 105 Batch   10/14   train_loss = 1.716\n",
      "Epoch 106 Batch    1/14   train_loss = 1.817\n",
      "Epoch 106 Batch    6/14   train_loss = 1.671\n",
      "Epoch 106 Batch   11/14   train_loss = 1.757\n",
      "Epoch 107 Batch    2/14   train_loss = 1.698\n",
      "Epoch 107 Batch    7/14   train_loss = 1.748\n",
      "Epoch 107 Batch   12/14   train_loss = 1.709\n",
      "Epoch 108 Batch    3/14   train_loss = 1.718\n",
      "Epoch 108 Batch    8/14   train_loss = 1.718\n",
      "Epoch 108 Batch   13/14   train_loss = 1.696\n",
      "Epoch 109 Batch    4/14   train_loss = 1.696\n",
      "Epoch 109 Batch    9/14   train_loss = 1.669\n",
      "Epoch 110 Batch    0/14   train_loss = 1.685\n",
      "Epoch 110 Batch    5/14   train_loss = 1.658\n",
      "Epoch 110 Batch   10/14   train_loss = 1.626\n",
      "Epoch 111 Batch    1/14   train_loss = 1.718\n",
      "Epoch 111 Batch    6/14   train_loss = 1.575\n",
      "Epoch 111 Batch   11/14   train_loss = 1.668\n",
      "Epoch 112 Batch    2/14   train_loss = 1.605\n",
      "Epoch 112 Batch    7/14   train_loss = 1.661\n",
      "Epoch 112 Batch   12/14   train_loss = 1.621\n",
      "Epoch 113 Batch    3/14   train_loss = 1.626\n",
      "Epoch 113 Batch    8/14   train_loss = 1.631\n",
      "Epoch 113 Batch   13/14   train_loss = 1.612\n",
      "Epoch 114 Batch    4/14   train_loss = 1.608\n",
      "Epoch 114 Batch    9/14   train_loss = 1.582\n",
      "Epoch 115 Batch    0/14   train_loss = 1.602\n",
      "Epoch 115 Batch    5/14   train_loss = 1.569\n",
      "Epoch 115 Batch   10/14   train_loss = 1.545\n",
      "Epoch 116 Batch    1/14   train_loss = 1.639\n",
      "Epoch 116 Batch    6/14   train_loss = 1.485\n",
      "Epoch 116 Batch   11/14   train_loss = 1.587\n",
      "Epoch 117 Batch    2/14   train_loss = 1.526\n",
      "Epoch 117 Batch    7/14   train_loss = 1.574\n",
      "Epoch 117 Batch   12/14   train_loss = 1.540\n",
      "Epoch 118 Batch    3/14   train_loss = 1.548\n",
      "Epoch 118 Batch    8/14   train_loss = 1.540\n",
      "Epoch 118 Batch   13/14   train_loss = 1.526\n",
      "Epoch 119 Batch    4/14   train_loss = 1.532\n",
      "Epoch 119 Batch    9/14   train_loss = 1.491\n",
      "Epoch 120 Batch    0/14   train_loss = 1.516\n",
      "Epoch 120 Batch    5/14   train_loss = 1.497\n",
      "Epoch 120 Batch   10/14   train_loss = 1.452\n",
      "Epoch 121 Batch    1/14   train_loss = 1.557\n",
      "Epoch 121 Batch    6/14   train_loss = 1.415\n",
      "Epoch 121 Batch   11/14   train_loss = 1.490\n",
      "Epoch 122 Batch    2/14   train_loss = 1.444\n",
      "Epoch 122 Batch    7/14   train_loss = 1.504\n",
      "Epoch 122 Batch   12/14   train_loss = 1.453\n",
      "Epoch 123 Batch    3/14   train_loss = 1.470\n",
      "Epoch 123 Batch    8/14   train_loss = 1.468\n",
      "Epoch 123 Batch   13/14   train_loss = 1.443\n",
      "Epoch 124 Batch    4/14   train_loss = 1.451\n",
      "Epoch 124 Batch    9/14   train_loss = 1.418\n",
      "Epoch 125 Batch    0/14   train_loss = 1.437\n",
      "Epoch 125 Batch    5/14   train_loss = 1.410\n",
      "Epoch 125 Batch   10/14   train_loss = 1.384\n",
      "Epoch 126 Batch    1/14   train_loss = 1.483\n",
      "Epoch 126 Batch    6/14   train_loss = 1.326\n",
      "Epoch 126 Batch   11/14   train_loss = 1.417\n",
      "Epoch 127 Batch    2/14   train_loss = 1.373\n",
      "Epoch 127 Batch    7/14   train_loss = 1.420\n",
      "Epoch 127 Batch   12/14   train_loss = 1.374\n",
      "Epoch 128 Batch    3/14   train_loss = 1.397\n",
      "Epoch 128 Batch    8/14   train_loss = 1.388\n",
      "Epoch 128 Batch   13/14   train_loss = 1.355\n",
      "Epoch 129 Batch    4/14   train_loss = 1.382\n",
      "Epoch 129 Batch    9/14   train_loss = 1.343\n",
      "Epoch 130 Batch    0/14   train_loss = 1.350\n",
      "Epoch 130 Batch    5/14   train_loss = 1.346\n",
      "Epoch 130 Batch   10/14   train_loss = 1.319\n",
      "Epoch 131 Batch    1/14   train_loss = 1.395\n",
      "Epoch 131 Batch    6/14   train_loss = 1.267\n",
      "Epoch 131 Batch   11/14   train_loss = 1.350\n",
      "Epoch 132 Batch    2/14   train_loss = 1.286\n",
      "Epoch 132 Batch    7/14   train_loss = 1.358\n",
      "Epoch 132 Batch   12/14   train_loss = 1.306\n",
      "Epoch 133 Batch    3/14   train_loss = 1.311\n",
      "Epoch 133 Batch    8/14   train_loss = 1.325\n",
      "Epoch 133 Batch   13/14   train_loss = 1.284\n",
      "Epoch 134 Batch    4/14   train_loss = 1.298\n",
      "Epoch 134 Batch    9/14   train_loss = 1.279\n",
      "Epoch 135 Batch    0/14   train_loss = 1.284\n",
      "Epoch 135 Batch    5/14   train_loss = 1.253\n",
      "Epoch 135 Batch   10/14   train_loss = 1.249\n",
      "Epoch 136 Batch    1/14   train_loss = 1.329\n",
      "Epoch 136 Batch    6/14   train_loss = 1.173\n",
      "Epoch 136 Batch   11/14   train_loss = 1.276\n",
      "Epoch 137 Batch    2/14   train_loss = 1.216\n",
      "Epoch 137 Batch    7/14   train_loss = 1.265\n",
      "Epoch 137 Batch   12/14   train_loss = 1.231\n",
      "Epoch 138 Batch    3/14   train_loss = 1.248\n",
      "Epoch 138 Batch    8/14   train_loss = 1.233\n",
      "Epoch 138 Batch   13/14   train_loss = 1.214\n",
      "Epoch 139 Batch    4/14   train_loss = 1.237\n",
      "Epoch 139 Batch    9/14   train_loss = 1.192\n",
      "Epoch 140 Batch    0/14   train_loss = 1.213\n",
      "Epoch 140 Batch    5/14   train_loss = 1.198\n",
      "Epoch 140 Batch   10/14   train_loss = 1.171\n",
      "Epoch 141 Batch    1/14   train_loss = 1.251\n",
      "Epoch 141 Batch    6/14   train_loss = 1.121\n",
      "Epoch 141 Batch   11/14   train_loss = 1.203\n",
      "Epoch 142 Batch    2/14   train_loss = 1.148\n",
      "Epoch 142 Batch    7/14   train_loss = 1.213\n",
      "Epoch 142 Batch   12/14   train_loss = 1.164\n",
      "Epoch 143 Batch    3/14   train_loss = 1.173\n",
      "Epoch 143 Batch    8/14   train_loss = 1.180\n",
      "Epoch 143 Batch   13/14   train_loss = 1.144\n",
      "Epoch 144 Batch    4/14   train_loss = 1.170\n",
      "Epoch 144 Batch    9/14   train_loss = 1.133\n",
      "Epoch 145 Batch    0/14   train_loss = 1.135\n",
      "Epoch 145 Batch    5/14   train_loss = 1.128\n",
      "Epoch 145 Batch   10/14   train_loss = 1.101\n",
      "Epoch 146 Batch    1/14   train_loss = 1.184\n",
      "Epoch 146 Batch    6/14   train_loss = 1.050\n",
      "Epoch 146 Batch   11/14   train_loss = 1.128\n",
      "Epoch 147 Batch    2/14   train_loss = 1.075\n",
      "Epoch 147 Batch    7/14   train_loss = 1.130\n",
      "Epoch 147 Batch   12/14   train_loss = 1.082\n",
      "Epoch 148 Batch    3/14   train_loss = 1.101\n",
      "Epoch 148 Batch    8/14   train_loss = 1.087\n",
      "Epoch 148 Batch   13/14   train_loss = 1.068\n",
      "Epoch 149 Batch    4/14   train_loss = 1.089\n",
      "Epoch 149 Batch    9/14   train_loss = 1.044\n",
      "Epoch 150 Batch    0/14   train_loss = 1.055\n",
      "Epoch 150 Batch    5/14   train_loss = 1.052\n",
      "Epoch 150 Batch   10/14   train_loss = 1.021\n",
      "Epoch 151 Batch    1/14   train_loss = 1.109\n",
      "Epoch 151 Batch    6/14   train_loss = 0.979\n",
      "Epoch 151 Batch   11/14   train_loss = 1.048\n",
      "Epoch 152 Batch    2/14   train_loss = 1.011\n",
      "Epoch 152 Batch    7/14   train_loss = 1.061\n",
      "Epoch 152 Batch   12/14   train_loss = 1.014\n",
      "Epoch 153 Batch    3/14   train_loss = 1.033\n",
      "Epoch 153 Batch    8/14   train_loss = 1.022\n",
      "Epoch 153 Batch   13/14   train_loss = 1.005\n",
      "Epoch 154 Batch    4/14   train_loss = 1.031\n",
      "Epoch 154 Batch    9/14   train_loss = 0.986\n",
      "Epoch 155 Batch    0/14   train_loss = 0.998\n",
      "Epoch 155 Batch    5/14   train_loss = 0.996\n",
      "Epoch 155 Batch   10/14   train_loss = 0.967\n",
      "Epoch 156 Batch    1/14   train_loss = 1.053\n",
      "Epoch 156 Batch    6/14   train_loss = 0.929\n",
      "Epoch 156 Batch   11/14   train_loss = 0.998\n",
      "Epoch 157 Batch    2/14   train_loss = 0.949\n",
      "Epoch 157 Batch    7/14   train_loss = 1.010\n",
      "Epoch 157 Batch   12/14   train_loss = 0.962\n",
      "Epoch 158 Batch    3/14   train_loss = 0.979\n",
      "Epoch 158 Batch    8/14   train_loss = 0.966\n",
      "Epoch 158 Batch   13/14   train_loss = 0.952\n",
      "Epoch 159 Batch    4/14   train_loss = 0.976\n",
      "Epoch 159 Batch    9/14   train_loss = 0.930\n",
      "Epoch 160 Batch    0/14   train_loss = 0.940\n",
      "Epoch 160 Batch    5/14   train_loss = 0.943\n",
      "Epoch 160 Batch   10/14   train_loss = 0.914\n",
      "Epoch 161 Batch    1/14   train_loss = 0.996\n",
      "Epoch 161 Batch    6/14   train_loss = 0.883\n",
      "Epoch 161 Batch   11/14   train_loss = 0.942\n",
      "Epoch 162 Batch    2/14   train_loss = 0.894\n",
      "Epoch 162 Batch    7/14   train_loss = 0.968\n",
      "Epoch 162 Batch   12/14   train_loss = 0.916\n",
      "Epoch 163 Batch    3/14   train_loss = 0.929\n",
      "Epoch 163 Batch    8/14   train_loss = 0.925\n",
      "Epoch 163 Batch   13/14   train_loss = 0.903\n",
      "Epoch 164 Batch    4/14   train_loss = 0.920\n",
      "Epoch 164 Batch    9/14   train_loss = 0.889\n",
      "Epoch 165 Batch    0/14   train_loss = 0.889\n",
      "Epoch 165 Batch    5/14   train_loss = 0.886\n",
      "Epoch 165 Batch   10/14   train_loss = 0.867\n",
      "Epoch 166 Batch    1/14   train_loss = 0.947\n",
      "Epoch 166 Batch    6/14   train_loss = 0.824\n",
      "Epoch 166 Batch   11/14   train_loss = 0.886\n",
      "Epoch 167 Batch    2/14   train_loss = 0.843\n",
      "Epoch 167 Batch    7/14   train_loss = 0.902\n",
      "Epoch 167 Batch   12/14   train_loss = 0.858\n",
      "Epoch 168 Batch    3/14   train_loss = 0.877\n",
      "Epoch 168 Batch    8/14   train_loss = 0.858\n",
      "Epoch 168 Batch   13/14   train_loss = 0.842\n",
      "Epoch 169 Batch    4/14   train_loss = 0.876\n",
      "Epoch 169 Batch    9/14   train_loss = 0.826\n",
      "Epoch 170 Batch    0/14   train_loss = 0.834\n",
      "Epoch 170 Batch    5/14   train_loss = 0.844\n",
      "Epoch 170 Batch   10/14   train_loss = 0.808\n",
      "Epoch 171 Batch    1/14   train_loss = 0.888\n",
      "Epoch 171 Batch    6/14   train_loss = 0.783\n",
      "Epoch 171 Batch   11/14   train_loss = 0.829\n",
      "Epoch 172 Batch    2/14   train_loss = 0.794\n",
      "Epoch 172 Batch    7/14   train_loss = 0.856\n",
      "Epoch 172 Batch   12/14   train_loss = 0.803\n",
      "Epoch 173 Batch    3/14   train_loss = 0.825\n",
      "Epoch 173 Batch    8/14   train_loss = 0.808\n",
      "Epoch 173 Batch   13/14   train_loss = 0.796\n",
      "Epoch 174 Batch    4/14   train_loss = 0.813\n",
      "Epoch 174 Batch    9/14   train_loss = 0.774\n",
      "Epoch 175 Batch    0/14   train_loss = 0.780\n",
      "Epoch 175 Batch    5/14   train_loss = 0.777\n",
      "Epoch 175 Batch   10/14   train_loss = 0.750\n",
      "Epoch 176 Batch    1/14   train_loss = 0.818\n",
      "Epoch 176 Batch    6/14   train_loss = 0.716\n",
      "Epoch 176 Batch   11/14   train_loss = 0.772\n",
      "Epoch 177 Batch    2/14   train_loss = 0.723\n",
      "Epoch 177 Batch    7/14   train_loss = 0.779\n",
      "Epoch 177 Batch   12/14   train_loss = 0.743\n",
      "Epoch 178 Batch    3/14   train_loss = 0.746\n",
      "Epoch 178 Batch    8/14   train_loss = 0.743\n",
      "Epoch 178 Batch   13/14   train_loss = 0.739\n",
      "Epoch 179 Batch    4/14   train_loss = 0.746\n",
      "Epoch 179 Batch    9/14   train_loss = 0.715\n",
      "Epoch 180 Batch    0/14   train_loss = 0.716\n",
      "Epoch 180 Batch    5/14   train_loss = 0.716\n",
      "Epoch 180 Batch   10/14   train_loss = 0.697\n",
      "Epoch 181 Batch    1/14   train_loss = 0.765\n",
      "Epoch 181 Batch    6/14   train_loss = 0.662\n",
      "Epoch 181 Batch   11/14   train_loss = 0.728\n",
      "Epoch 182 Batch    2/14   train_loss = 0.682\n",
      "Epoch 182 Batch    7/14   train_loss = 0.726\n",
      "Epoch 182 Batch   12/14   train_loss = 0.707\n",
      "Epoch 183 Batch    3/14   train_loss = 0.714\n",
      "Epoch 183 Batch    8/14   train_loss = 0.695\n",
      "Epoch 183 Batch   13/14   train_loss = 0.706\n",
      "Epoch 184 Batch    4/14   train_loss = 0.703\n",
      "Epoch 184 Batch    9/14   train_loss = 0.674\n",
      "Epoch 185 Batch    0/14   train_loss = 0.685\n",
      "Epoch 185 Batch    5/14   train_loss = 0.675\n",
      "Epoch 185 Batch   10/14   train_loss = 0.663\n",
      "Epoch 186 Batch    1/14   train_loss = 0.729\n",
      "Epoch 186 Batch    6/14   train_loss = 0.624\n",
      "Epoch 186 Batch   11/14   train_loss = 0.678\n",
      "Epoch 187 Batch    2/14   train_loss = 0.637\n",
      "Epoch 187 Batch    7/14   train_loss = 0.684\n",
      "Epoch 187 Batch   12/14   train_loss = 0.652\n",
      "Epoch 188 Batch    3/14   train_loss = 0.657\n",
      "Epoch 188 Batch    8/14   train_loss = 0.647\n",
      "Epoch 188 Batch   13/14   train_loss = 0.645\n",
      "Epoch 189 Batch    4/14   train_loss = 0.648\n",
      "Epoch 189 Batch    9/14   train_loss = 0.618\n",
      "Epoch 190 Batch    0/14   train_loss = 0.624\n",
      "Epoch 190 Batch    5/14   train_loss = 0.622\n",
      "Epoch 190 Batch   10/14   train_loss = 0.595\n",
      "Epoch 191 Batch    1/14   train_loss = 0.668\n",
      "Epoch 191 Batch    6/14   train_loss = 0.577\n",
      "Epoch 191 Batch   11/14   train_loss = 0.619\n",
      "Epoch 192 Batch    2/14   train_loss = 0.586\n",
      "Epoch 192 Batch    7/14   train_loss = 0.634\n",
      "Epoch 192 Batch   12/14   train_loss = 0.604\n",
      "Epoch 193 Batch    3/14   train_loss = 0.611\n",
      "Epoch 193 Batch    8/14   train_loss = 0.598\n",
      "Epoch 193 Batch   13/14   train_loss = 0.600\n",
      "Epoch 194 Batch    4/14   train_loss = 0.606\n",
      "Epoch 194 Batch    9/14   train_loss = 0.575\n",
      "Epoch 195 Batch    0/14   train_loss = 0.581\n",
      "Epoch 195 Batch    5/14   train_loss = 0.583\n",
      "Epoch 195 Batch   10/14   train_loss = 0.556\n",
      "Epoch 196 Batch    1/14   train_loss = 0.627\n",
      "Epoch 196 Batch    6/14   train_loss = 0.543\n",
      "Epoch 196 Batch   11/14   train_loss = 0.581\n",
      "Epoch 197 Batch    2/14   train_loss = 0.550\n",
      "Epoch 197 Batch    7/14   train_loss = 0.592\n",
      "Epoch 197 Batch   12/14   train_loss = 0.573\n",
      "Epoch 198 Batch    3/14   train_loss = 0.578\n",
      "Epoch 198 Batch    8/14   train_loss = 0.559\n",
      "Epoch 198 Batch   13/14   train_loss = 0.569\n",
      "Epoch 199 Batch    4/14   train_loss = 0.572\n",
      "Epoch 199 Batch    9/14   train_loss = 0.535\n",
      "Model Trained and Saved\n"
     ]
    }
   ],
   "source": [
    "\"\"\"\n",
    "DON'T MODIFY ANYTHING IN THIS CELL\n",
    "\"\"\"\n",
    "batches = get_batches(int_text, batch_size, seq_length)\n",
    "\n",
    "with tf.Session(graph=train_graph) as sess:\n",
    "    sess.run(tf.global_variables_initializer())\n",
    "\n",
    "    for epoch_i in range(num_epochs):\n",
    "        state = sess.run(initial_state, {input_text: batches[0][0]})\n",
    "\n",
    "        for batch_i, (x, y) in enumerate(batches):\n",
    "            feed = {\n",
    "                input_text: x,\n",
    "                targets: y,\n",
    "                initial_state: state,\n",
    "                lr: learning_rate}\n",
    "            train_loss, state, _ = sess.run([cost, final_state, train_op], feed)\n",
    "\n",
    "            # Show every <show_every_n_batches> batches\n",
    "            if (epoch_i * len(batches) + batch_i) % show_every_n_batches == 0:\n",
    "                print('Epoch {:>3} Batch {:>4}/{}   train_loss = {:.3f}'.format(\n",
    "                    epoch_i,\n",
    "                    batch_i,\n",
    "                    len(batches),\n",
    "                    train_loss))\n",
    "\n",
    "    # Save Model\n",
    "    saver = tf.train.Saver()\n",
    "    saver.save(sess, save_dir)\n",
    "    print('Model Trained and Saved')"
   ]
  },
  {
   "cell_type": "markdown",
   "metadata": {
    "deletable": true,
    "editable": true
   },
   "source": [
    "## Save Parameters\n",
    "Save `seq_length` and `save_dir` for generating a new TV script."
   ]
  },
  {
   "cell_type": "code",
   "execution_count": 67,
   "metadata": {
    "collapsed": false,
    "deletable": true,
    "editable": true
   },
   "outputs": [],
   "source": [
    "\"\"\"\n",
    "DON'T MODIFY ANYTHING IN THIS CELL\n",
    "\"\"\"\n",
    "# Save parameters for checkpoint\n",
    "helper.save_params((seq_length, save_dir))"
   ]
  },
  {
   "cell_type": "markdown",
   "metadata": {
    "deletable": true,
    "editable": true
   },
   "source": [
    "# Checkpoint"
   ]
  },
  {
   "cell_type": "code",
   "execution_count": 68,
   "metadata": {
    "collapsed": false,
    "deletable": true,
    "editable": true
   },
   "outputs": [],
   "source": [
    "\"\"\"\n",
    "DON'T MODIFY ANYTHING IN THIS CELL\n",
    "\"\"\"\n",
    "import tensorflow as tf\n",
    "import numpy as np\n",
    "import helper\n",
    "import problem_unittests as tests\n",
    "\n",
    "_, vocab_to_int, int_to_vocab, token_dict = helper.load_preprocess()\n",
    "seq_length, load_dir = helper.load_params()"
   ]
  },
  {
   "cell_type": "markdown",
   "metadata": {
    "deletable": true,
    "editable": true
   },
   "source": [
    "## Implement Generate Functions\n",
    "### Get Tensors\n",
    "Get tensors from `loaded_graph` using the function [`get_tensor_by_name()`](https://www.tensorflow.org/api_docs/python/tf/Graph#get_tensor_by_name).  Get the tensors using the following names:\n",
    "- \"input:0\"\n",
    "- \"initial_state:0\"\n",
    "- \"final_state:0\"\n",
    "- \"probs:0\"\n",
    "\n",
    "Return the tensors in the following tuple `(InputTensor, InitialStateTensor, FinalStateTensor, ProbsTensor)` "
   ]
  },
  {
   "cell_type": "code",
   "execution_count": 69,
   "metadata": {
    "collapsed": false,
    "deletable": true,
    "editable": true
   },
   "outputs": [
    {
     "name": "stdout",
     "output_type": "stream",
     "text": [
      "Tests Passed\n"
     ]
    }
   ],
   "source": [
    "def get_tensors(loaded_graph):\n",
    "    \"\"\"\n",
    "    Get input, initial state, final state, and probabilities tensor from <loaded_graph>\n",
    "    :param loaded_graph: TensorFlow graph loaded from file\n",
    "    :return: Tuple (InputTensor, InitialStateTensor, FinalStateTensor, ProbsTensor)\n",
    "    \"\"\"\n",
    "    # TODO: Implement Function\n",
    "    input_tensor = tf.Graph.get_tensor_by_name(name='input:0', self=loaded_graph)\n",
    "    initial_state = tf.Graph.get_tensor_by_name(name='initial_state:0', self=loaded_graph)\n",
    "    final_state = tf.Graph.get_tensor_by_name(name='final_state:0', self=loaded_graph)\n",
    "    probs = tf.Graph.get_tensor_by_name(name='probs:0', self=loaded_graph)\n",
    "    return input_tensor, initial_state, final_state, probs\n",
    "\n",
    "\n",
    "\"\"\"\n",
    "DON'T MODIFY ANYTHING IN THIS CELL THAT IS BELOW THIS LINE\n",
    "\"\"\"\n",
    "tests.test_get_tensors(get_tensors)"
   ]
  },
  {
   "cell_type": "markdown",
   "metadata": {
    "deletable": true,
    "editable": true
   },
   "source": [
    "### Choose Word\n",
    "Implement the `pick_word()` function to select the next word using `probabilities`."
   ]
  },
  {
   "cell_type": "code",
   "execution_count": 70,
   "metadata": {
    "collapsed": false,
    "deletable": true,
    "editable": true
   },
   "outputs": [
    {
     "name": "stdout",
     "output_type": "stream",
     "text": [
      "Tests Passed\n"
     ]
    }
   ],
   "source": [
    "def pick_word(probabilities, int_to_vocab):\n",
    "    \"\"\"\n",
    "    Pick the next word in the generated text\n",
    "    :param probabilities: Probabilites of the next word\n",
    "    :param int_to_vocab: Dictionary of word ids as the keys and words as the values\n",
    "    :return: String of the predicted word\n",
    "    \"\"\"\n",
    "    # TODO: Implement Function\n",
    "    \n",
    "    # pick one of the top-10 words (don't sample from all words)\n",
    "    top_words = 10\n",
    "    p = np.squeeze(probabilities)\n",
    "    p[np.argsort(p)[:-top_words]] = 0\n",
    "    p = p / np.sum(p)\n",
    "    rand_int = np.random.choice([i for i in int_to_vocab.keys()], p=p)\n",
    "    return int_to_vocab[rand_int]\n",
    "\n",
    "\"\"\"\n",
    "DON'T MODIFY ANYTHING IN THIS CELL THAT IS BELOW THIS LINE\n",
    "\"\"\"\n",
    "tests.test_pick_word(pick_word)"
   ]
  },
  {
   "cell_type": "markdown",
   "metadata": {
    "deletable": true,
    "editable": true
   },
   "source": [
    "## Generate TV Script\n",
    "This will generate the TV script for you.  Set `gen_length` to the length of TV script you want to generate."
   ]
  },
  {
   "cell_type": "code",
   "execution_count": 73,
   "metadata": {
    "collapsed": false,
    "deletable": true,
    "editable": true
   },
   "outputs": [
    {
     "name": "stdout",
     "output_type": "stream",
     "text": [
      "INFO:tensorflow:Restoring parameters from ./save\n",
      "moe_szyslak:(into phone) moe's tavern. where the elite meet to cut off.\n",
      "carl_carlson: hey, homer. if i never once helped out with the noble intention of getting drunk and i don't respect?\n",
      "chief_wiggum: nice beating, lance. especially their crap is sabermetrics.(normal) i can have to go home and make you just come back.\n",
      "moe_szyslak: aw, marriage. ah, lemme just get back to the latin grammys. now, uh, i was just leaving, a little job.\n",
      "homer_simpson:(consoling) hey, who are you all lookin' at? uh... can i do with my daughter? he's the man that says people don't have a day.\n",
      "homer_simpson: thanks for the first time.\n",
      "homer_simpson: hey, where'd that painting come from?!(back) oh yeah.\n",
      "moe_szyslak: ah, well how much i've ever repay you want to tell her what we did.\n",
      "homer_simpson: i guess how to make myself copy.\n",
      "homer_simpson: hey, come on, i don't like to brag\n"
     ]
    }
   ],
   "source": [
    "gen_length = 200\n",
    "# homer_simpson, moe_szyslak, or Barney_Gumble\n",
    "prime_word = 'moe_szyslak'\n",
    "\n",
    "\"\"\"\n",
    "DON'T MODIFY ANYTHING IN THIS CELL THAT IS BELOW THIS LINE\n",
    "\"\"\"\n",
    "loaded_graph = tf.Graph()\n",
    "with tf.Session(graph=loaded_graph) as sess:\n",
    "    # Load saved model\n",
    "    loader = tf.train.import_meta_graph(load_dir + '.meta')\n",
    "    loader.restore(sess, load_dir)\n",
    "\n",
    "    # Get Tensors from loaded model\n",
    "    input_text, initial_state, final_state, probs = get_tensors(loaded_graph)\n",
    "\n",
    "    # Sentences generation setup\n",
    "    gen_sentences = [prime_word + ':']\n",
    "    prev_state = sess.run(initial_state, {input_text: np.array([[1]])})\n",
    "\n",
    "    # Generate sentences\n",
    "    for n in range(gen_length):\n",
    "        # Dynamic Input\n",
    "        dyn_input = [[vocab_to_int[word] for word in gen_sentences[-seq_length:]]]\n",
    "        dyn_seq_length = len(dyn_input[0])\n",
    "\n",
    "        # Get Prediction\n",
    "        probabilities, prev_state = sess.run(\n",
    "            [probs, final_state],\n",
    "            {input_text: dyn_input, initial_state: prev_state})\n",
    "        \n",
    "        # MODIFICATION!!!\n",
    "        pred_word = pick_word(probabilities[0][dyn_seq_length-1], int_to_vocab)\n",
    "\n",
    "        gen_sentences.append(pred_word)\n",
    "    \n",
    "    # Remove tokens\n",
    "    tv_script = ' '.join(gen_sentences)\n",
    "    for key, token in token_dict.items():\n",
    "        ending = ' ' if key in ['\\n', '(', '\"'] else ''\n",
    "        tv_script = tv_script.replace(' ' + token.lower(), key)\n",
    "    tv_script = tv_script.replace('\\n ', '\\n')\n",
    "    tv_script = tv_script.replace('( ', '(')\n",
    "        \n",
    "    print(tv_script)"
   ]
  },
  {
   "cell_type": "markdown",
   "metadata": {},
   "source": [
    "## Change to above code:\n",
    "I did modify the above code, since the indexing into the 'probabilities' array was wrong."
   ]
  },
  {
   "cell_type": "markdown",
   "metadata": {
    "deletable": true,
    "editable": true
   },
   "source": [
    "# The TV Script is Nonsensical\n",
    "It's ok if the TV script doesn't make any sense.  We trained on less than a megabyte of text.  In order to get good results, you'll have to use a smaller vocabulary or get more data.  Luckly there's more data!  As we mentioned in the begging of this project, this is a subset of [another dataset](https://www.kaggle.com/wcukierski/the-simpsons-by-the-data).  We didn't have you train on all the data, because that would take too long.  However, you are free to train your neural network on all the data.  After you complete the project, of course.\n",
    "# Submitting This Project\n",
    "When submitting this project, make sure to run all the cells before saving the notebook. Save the notebook file as \"dlnd_tv_script_generation.ipynb\" and save it as a HTML file under \"File\" -> \"Download as\". Include the \"helper.py\" and \"problem_unittests.py\" files in your submission."
   ]
  }
 ],
 "metadata": {
  "anaconda-cloud": {},
  "kernelspec": {
   "display_name": "Python [default]",
   "language": "python",
   "name": "python3"
  },
  "language_info": {
   "codemirror_mode": {
    "name": "ipython",
    "version": 3
   },
   "file_extension": ".py",
   "mimetype": "text/x-python",
   "name": "python",
   "nbconvert_exporter": "python",
   "pygments_lexer": "ipython3",
   "version": "3.5.2"
  }
 },
 "nbformat": 4,
 "nbformat_minor": 0
}
